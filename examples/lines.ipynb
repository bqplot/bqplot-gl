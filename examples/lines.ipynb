{
 "cells": [
  {
   "cell_type": "code",
   "execution_count": 1,
   "id": "faf6701a",
   "metadata": {},
   "outputs": [
    {
     "data": {
      "application/vnd.jupyter.widget-view+json": {
       "model_id": "c4ee4d8bc9a04a279a55494a782a76cd",
       "version_major": 2,
       "version_minor": 0
      },
      "text/plain": [
       "FigureGL(axes=[Axis(label='Index', scale=LinearScale()), Axis(label='lines', orientation='vertical', scale=Lin…"
      ]
     },
     "metadata": {},
     "output_type": "display_data"
    }
   ],
   "source": [
    "from bqplot import *\n",
    "\n",
    "from bqplot_gl import FigureGL, ScatterGL, LinesGL\n",
    "\n",
    "import numpy as np\n",
    "import pandas as pd\n",
    "\n",
    "n = 10_000\n",
    "\n",
    "np.random.seed(0)\n",
    "y1 = np.cumsum(np.random.randn(n)) + 100.\n",
    "y2 = np.cumsum(np.random.randn(n)) + 100.\n",
    "y3 = np.cumsum(np.random.randn(n)) + 100.\n",
    "y4 = np.cumsum(np.random.randn(n)) + 100.\n",
    "\n",
    "sc_x = LinearScale()\n",
    "sc_y = LinearScale()\n",
    "\n",
    "panzoom = PanZoom(scales={'x': [sc_x], 'y': [sc_y]})\n",
    "\n",
    "lines = LinesGL(x=np.arange(len(y1)), y=y1,\n",
    "             scales={'x': sc_x, 'y': sc_y})\n",
    "ax_x = Axis(scale=sc_x, label='Index')\n",
    "ax_y = Axis(scale=sc_y, orientation='vertical', label='lines')\n",
    "\n",
    "FigureGL(marks=[lines], axes=[ax_x, ax_y], title='Lines', interaction=panzoom)"
   ]
  },
  {
   "cell_type": "code",
   "execution_count": 2,
   "id": "bd78813d",
   "metadata": {},
   "outputs": [],
   "source": [
    "lines.colors = ['green']"
   ]
  },
  {
   "cell_type": "code",
   "execution_count": 3,
   "id": "52a1f6dc",
   "metadata": {},
   "outputs": [],
   "source": [
    "lines.y = y2"
   ]
  },
  {
   "cell_type": "code",
   "execution_count": null,
   "id": "522de596",
   "metadata": {},
   "outputs": [],
   "source": [
    "lines.stroke_width = 1"
   ]
  },
  {
   "cell_type": "code",
   "execution_count": null,
   "id": "852503d8",
   "metadata": {},
   "outputs": [],
   "source": []
  }
 ],
 "metadata": {
  "kernelspec": {
   "display_name": "Python 3 (ipykernel)",
   "language": "python",
   "name": "python3"
  },
  "language_info": {
   "codemirror_mode": {
    "name": "ipython",
    "version": 3
   },
   "file_extension": ".py",
   "mimetype": "text/x-python",
   "name": "python",
   "nbconvert_exporter": "python",
   "pygments_lexer": "ipython3",
   "version": "3.9.6"
  }
 },
 "nbformat": 4,
 "nbformat_minor": 5
}
