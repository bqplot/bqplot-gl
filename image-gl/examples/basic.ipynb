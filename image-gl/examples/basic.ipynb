{
 "cells": [
  {
   "cell_type": "code",
   "execution_count": null,
   "metadata": {},
   "outputs": [],
   "source": [
    "import numpy as np\n",
    "from bqplot import Figure, LinearScale, Axis, ColorScale\n",
    "from bqplot_image_gl import ImageGL"
   ]
  },
  {
   "cell_type": "code",
   "execution_count": null,
   "metadata": {},
   "outputs": [],
   "source": [
    "scale_x = LinearScale(min=0, max=1)\n",
    "scale_y = LinearScale(min=0, max=1)\n",
    "scales = {'x': scale_x,\n",
    "          'y': scale_y}\n",
    "axis_x = Axis(scale=scale_x, label='x')\n",
    "axis_y = Axis(scale=scale_y, label='y', orientation='vertical')\n",
    "\n",
    "figure = Figure(scales=scales, axes=[axis_x, axis_y])\n",
    "\n",
    "scales_image = {'x': scale_x,\n",
    "                'y': scale_y,\n",
    "                'image': ColorScale(min=0, max=1)}\n",
    "\n",
    "image = ImageGL(image=np.random.random((10, 10)), scales=scales_image)\n",
    "\n",
    "figure.marks = (image,)"
   ]
  },
  {
   "cell_type": "code",
   "execution_count": null,
   "metadata": {},
   "outputs": [],
   "source": [
    "figure"
   ]
  }
 ],
 "metadata": {
  "kernelspec": {
   "display_name": "Python 3",
   "language": "python",
   "name": "python3"
  },
  "language_info": {
   "codemirror_mode": {
    "name": "ipython",
    "version": 3
   },
   "file_extension": ".py",
   "mimetype": "text/x-python",
   "name": "python",
   "nbconvert_exporter": "python",
   "pygments_lexer": "ipython3",
   "version": "3.7.1"
  }
 },
 "nbformat": 4,
 "nbformat_minor": 2
}
