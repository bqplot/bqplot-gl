{
 "cells": [
  {
   "cell_type": "code",
   "execution_count": null,
   "metadata": {
    "ExecuteTime": {
     "end_time": "2020-03-31T10:39:19.750785Z",
     "start_time": "2020-03-31T10:39:18.905864Z"
    }
   },
   "outputs": [],
   "source": [
    "import bqplot\n",
    "import bqplot.pyplot as plt\n",
    "from bqplot_image_gl.interacts import BrushEllipseSelector\n",
    "import numpy as np\n",
    "N = 1000\n",
    "x, y = np.random.normal(size=(2, N))\n",
    "scale_x = bqplot.LinearScale()\n",
    "scale_y = bqplot.LinearScale()"
   ]
  },
  {
   "cell_type": "code",
   "execution_count": null,
   "metadata": {
    "ExecuteTime": {
     "end_time": "2020-03-31T10:39:19.815423Z",
     "start_time": "2020-03-31T10:39:19.753452Z"
    }
   },
   "outputs": [],
   "source": [
    "fig = plt.figure()\n",
    "s = plt.scatter(x, y, scales={'x': scale_x, 'y': scale_y})\n",
    "plt.show()"
   ]
  },
  {
   "cell_type": "code",
   "execution_count": null,
   "metadata": {
    "ExecuteTime": {
     "end_time": "2020-03-31T10:37:06.528323Z",
     "start_time": "2020-03-31T10:37:06.523302Z"
    }
   },
   "outputs": [],
   "source": [
    "s.selected_style = {'fill': 'orange'}"
   ]
  },
  {
   "cell_type": "code",
   "execution_count": null,
   "metadata": {
    "ExecuteTime": {
     "end_time": "2020-03-31T10:37:07.676045Z",
     "start_time": "2020-03-31T10:37:07.664249Z"
    }
   },
   "outputs": [],
   "source": [
    "fig.interaction = BrushEllipseSelector(x_scale=scale_x, y_scale=scale_y, marks=[s])"
   ]
  },
  {
   "cell_type": "code",
   "execution_count": null,
   "metadata": {
    "ExecuteTime": {
     "end_time": "2020-03-31T10:37:01.946734Z",
     "start_time": "2020-03-31T10:37:01.942021Z"
    }
   },
   "outputs": [],
   "source": [
    "fig.interaction.selected_x = [-2, -0.5]\n",
    "fig.interaction.selected_y = [1, 2]"
   ]
  },
  {
   "cell_type": "code",
   "execution_count": null,
   "metadata": {
    "ExecuteTime": {
     "end_time": "2020-03-31T10:36:47.441439Z",
     "start_time": "2020-03-31T10:36:47.438240Z"
    }
   },
   "outputs": [],
   "source": [
    "fig.interaction.color = 'green'"
   ]
  },
  {
   "cell_type": "code",
   "execution_count": null,
   "metadata": {
    "ExecuteTime": {
     "end_time": "2020-03-31T10:36:49.197336Z",
     "start_time": "2020-03-31T10:36:49.193708Z"
    }
   },
   "outputs": [],
   "source": [
    "fig.interaction.style = {'fill': 'blue'}"
   ]
  },
  {
   "cell_type": "code",
   "execution_count": null,
   "metadata": {
    "ExecuteTime": {
     "end_time": "2020-03-31T10:36:54.148144Z",
     "start_time": "2020-03-31T10:36:54.144600Z"
    }
   },
   "outputs": [],
   "source": [
    "fig.interaction.border_style = {'stroke': 'blue'}"
   ]
  },
  {
   "cell_type": "code",
   "execution_count": null,
   "metadata": {
    "ExecuteTime": {
     "end_time": "2020-03-31T10:10:25.273187Z",
     "start_time": "2020-03-31T10:10:25.270960Z"
    }
   },
   "outputs": [],
   "source": [
    "# fig.interaction = bqplot.interacts.BrushSelector(x_scale=scale_x, y_scale=scale_y, marks=[s])"
   ]
  }
 ],
 "metadata": {
  "kernelspec": {
   "display_name": "Python 3",
   "language": "python",
   "name": "python3"
  },
  "language_info": {
   "codemirror_mode": {
    "name": "ipython",
    "version": 3
   },
   "file_extension": ".py",
   "mimetype": "text/x-python",
   "name": "python",
   "nbconvert_exporter": "python",
   "pygments_lexer": "ipython3",
   "version": "3.7.3"
  }
 },
 "nbformat": 4,
 "nbformat_minor": 2
}
