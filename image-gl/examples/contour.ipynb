{
 "cells": [
  {
   "cell_type": "code",
   "execution_count": null,
   "metadata": {},
   "outputs": [],
   "source": [
    "import json\n",
    "import numpy as np"
   ]
  },
  {
   "cell_type": "code",
   "execution_count": null,
   "metadata": {},
   "outputs": [],
   "source": [
    "with open('./data.json') as f:\n",
    "    data = json.load(f)"
   ]
  },
  {
   "cell_type": "code",
   "execution_count": null,
   "metadata": {},
   "outputs": [],
   "source": [
    "values = np.array(data['values'], dtype='float32')\n",
    "values = values.reshape((data['height'], data['width']))\n",
    "values"
   ]
  },
  {
   "cell_type": "code",
   "execution_count": null,
   "metadata": {},
   "outputs": [],
   "source": [
    "values.shape"
   ]
  },
  {
   "cell_type": "code",
   "execution_count": null,
   "metadata": {},
   "outputs": [],
   "source": [
    "import numpy as np\n",
    "from bqplot import Figure, LinearScale, Axis, ColorScale\n",
    "from bqplot_image_gl import ImageGL, Contour\n",
    "import ipywidgets as widgets\n",
    "scale_x = LinearScale(min=0, max=1)\n",
    "scale_y = LinearScale(min=0, max=1)\n",
    "scales = {'x': scale_x, 'y': scale_y}\n",
    "axis_x = Axis(scale=scale_x, label='x')\n",
    "axis_y = Axis(scale=scale_y, label='y', orientation='vertical')\n",
    "scales_image = {'x': scale_x, 'y': scale_y, 'image': ColorScale(min=np.min(values).item(), max=np.max(values).item())}\n"
   ]
  },
  {
   "cell_type": "code",
   "execution_count": null,
   "metadata": {},
   "outputs": [],
   "source": [
    "figure = Figure(scales=scales, axes=[axis_x, axis_y])\n",
    "image = ImageGL(image=values, scales=scales_image)\n",
    "contour = Contour(image=image, level=180, scales=scales_image)\n",
    "figure.marks = (image, contour)"
   ]
  },
  {
   "cell_type": "code",
   "execution_count": null,
   "metadata": {},
   "outputs": [],
   "source": [
    "figure"
   ]
  },
  {
   "cell_type": "code",
   "execution_count": null,
   "metadata": {},
   "outputs": [],
   "source": [
    "slider = widgets.FloatSlider(value=contour.level, min=np.min(values).item(), max=np.max(values).item())\n",
    "# we link from slider to contour, not back, since we will set multiple levels later on\n",
    "widgets.jsdlink((slider, 'value'), (contour, 'level'))\n",
    "slider"
   ]
  },
  {
   "cell_type": "code",
   "execution_count": null,
   "metadata": {},
   "outputs": [],
   "source": [
    "cp = widgets.ColorPicker(value='purple')\n",
    "widgets.jsdlink((cp, 'value'), (contour, 'color'))\n",
    "cp"
   ]
  },
  {
   "cell_type": "code",
   "execution_count": null,
   "metadata": {},
   "outputs": [],
   "source": [
    "contour.color = 'purple'"
   ]
  },
  {
   "cell_type": "markdown",
   "metadata": {},
   "source": [
    "# Multiple levels\n",
    "If level is a list of values, multiple contours lines will be drawn"
   ]
  },
  {
   "cell_type": "code",
   "execution_count": null,
   "metadata": {},
   "outputs": [],
   "source": [
    "contour.level = 170"
   ]
  },
  {
   "cell_type": "code",
   "execution_count": null,
   "metadata": {},
   "outputs": [],
   "source": [
    "contour.level = [150, 180]"
   ]
  },
  {
   "cell_type": "code",
   "execution_count": null,
   "metadata": {},
   "outputs": [],
   "source": [
    "# but also color\n",
    "contour.color = ['red', 'green']"
   ]
  },
  {
   "cell_type": "code",
   "execution_count": null,
   "metadata": {},
   "outputs": [],
   "source": [
    "contour.level = [120, 150, 180]"
   ]
  },
  {
   "cell_type": "code",
   "execution_count": null,
   "metadata": {},
   "outputs": [],
   "source": [
    "contour.level = [120, 180, 150]"
   ]
  },
  {
   "cell_type": "code",
   "execution_count": null,
   "metadata": {},
   "outputs": [],
   "source": [
    "import ipyvuetify as v\n",
    "import traitlets\n",
    "import ast\n",
    "\n",
    "class ValueListTextArea(v.TextField):\n",
    "    values = traitlets.Any()\n",
    "    \n",
    "    @traitlets.default('v_model')\n",
    "    def _v_model(self):\n",
    "        return \", \".join(map(str, self.values))\n",
    "\n",
    "    @traitlets.default('label')\n",
    "    def _label(self):\n",
    "        return \"List of values\"\n",
    "\n",
    "    @traitlets.default('placeholder')\n",
    "    def _placeholder(self):\n",
    "        return \"Enter a comma separated list of values\"\n",
    "\n",
    "    @traitlets.default('prepend_icon')\n",
    "    def _prepend_icon(self):\n",
    "        return 'show_chart'\n",
    "\n",
    "    @traitlets.observe('v_model')\n",
    "    def update_custom_selection(self, change):\n",
    "        self.check_values()\n",
    "    \n",
    "    def check_values(self):\n",
    "        try:\n",
    "            values = ast.literal_eval(self.v_model)\n",
    "        except Exception as e:\n",
    "            self.error_messages = str(e)\n",
    "            return\n",
    "        if not isinstance(values, tuple):  # maybe we put in a single number\n",
    "            if not isinstance(values, (int, float)):\n",
    "                self.error_message = \"Please provide numbers\"\n",
    "                return\n",
    "            values = [values]\n",
    "        for value in values:\n",
    "            if not isinstance(value, (int, float)):\n",
    "                self.error_message = \"Please provide numbers\"\n",
    "                return\n",
    "        self.error_messages = None\n",
    "        self.values = values\n",
    "        return True\n",
    "values_list = ValueListTextArea(values=[120])\n",
    "values_list"
   ]
  },
  {
   "cell_type": "code",
   "execution_count": null,
   "metadata": {},
   "outputs": [],
   "source": [
    "widgets.dlink((values_list, 'values'), (contour, 'level'))\n",
    "figure"
   ]
  },
  {
   "cell_type": "markdown",
   "metadata": {},
   "source": [
    "# Kernel side contour lines\n",
    "d3 is not the fast way to calculate contour lines. For performance reasons it may be useful to use skimage."
   ]
  },
  {
   "cell_type": "code",
   "execution_count": null,
   "metadata": {},
   "outputs": [],
   "source": [
    "x, y = np.ogrid[-np.pi:np.pi:256j, -np.pi:np.pi:256j]\n",
    "values = np.sin(np.exp((np.sin(x)**3 + np.cos(y)**2)))"
   ]
  },
  {
   "cell_type": "code",
   "execution_count": null,
   "metadata": {},
   "outputs": [],
   "source": [
    "contour_level = 0.95"
   ]
  },
  {
   "cell_type": "code",
   "execution_count": null,
   "metadata": {},
   "outputs": [],
   "source": [
    "import skimage.measure\n",
    "contours = skimage.measure.find_contours(values.T, contour_level)\n",
    "contours = [k/values.T.shape for k in contours]"
   ]
  },
  {
   "cell_type": "code",
   "execution_count": null,
   "metadata": {},
   "outputs": [],
   "source": [
    "import bqplot\n",
    "from bqplot import Figure, LinearScale, Axis, ColorScale\n",
    "from bqplot_image_gl import ImageGL, Contour\n",
    "\n",
    "scale_x = LinearScale(min=0, max=1)\n",
    "scale_y = LinearScale(min=0, max=1)\n",
    "scales = {'x': scale_x, 'y': scale_y}\n",
    "axis_x = Axis(scale=scale_x, label='x')\n",
    "axis_y = Axis(scale=scale_y, label='y', orientation='vertical')\n",
    "scales_image = {'x': scale_x, 'y': scale_y, 'image': ColorScale(min=np.min(values).item(), max=np.max(values).item())}\n",
    "\n",
    "figure = Figure(scales=scales, axes=[axis_x, axis_y])\n",
    "image = ImageGL(image=values, scales=scales_image)\n",
    "contour_precomputed = Contour(contour_lines=[contours], level=contour_level, scales=scales_image, label_steps=200)\n",
    "figure.marks = (image, contour_precomputed)\n",
    "figure"
   ]
  },
  {
   "cell_type": "code",
   "execution_count": null,
   "metadata": {},
   "outputs": [],
   "source": [
    "contour_precomputed.label = ['min', 'max']"
   ]
  }
 ],
 "metadata": {
  "kernelspec": {
   "display_name": "Python 3",
   "language": "python",
   "name": "python3"
  },
  "language_info": {
   "codemirror_mode": {
    "name": "ipython",
    "version": 3
   },
   "file_extension": ".py",
   "mimetype": "text/x-python",
   "name": "python",
   "nbconvert_exporter": "python",
   "pygments_lexer": "ipython3",
   "version": "3.6.7"
  }
 },
 "nbformat": 4,
 "nbformat_minor": 2
}
