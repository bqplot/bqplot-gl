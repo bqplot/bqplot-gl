{
 "cells": [
  {
   "cell_type": "markdown",
   "id": "7d2bb515",
   "metadata": {},
   "source": [
    "# ViewListener\n",
    "A ViewListener listens to all views of a widgets and will report the dimensions. An optional css selector can target specific DOM elements inside the view. The `ViewListener.view_data` dict contains the metadata for each view, and will be updated when a new view gets created, or the DOM elements in one of the views resizes."
   ]
  },
  {
   "cell_type": "code",
   "execution_count": 1,
   "id": "80d65a3d",
   "metadata": {},
   "outputs": [
    {
     "data": {
      "application/vnd.jupyter.widget-view+json": {
       "model_id": "7436208300ec46e1951461c54edb60cb",
       "version_major": 2,
       "version_minor": 0
      },
      "text/plain": [
       "FloatSlider(value=0.0)"
      ]
     },
     "metadata": {},
     "output_type": "display_data"
    }
   ],
   "source": [
    "from bqplot_image_gl.viewlistener import ViewListener\n",
    "import ipywidgets as widgets\n",
    "slider = widgets.FloatSlider()\n",
    "slider"
   ]
  },
  {
   "cell_type": "code",
   "execution_count": 2,
   "id": "69b7fab0",
   "metadata": {},
   "outputs": [],
   "source": [
    "vl = ViewListener(widget=slider, css_selector=\".ui-slider-handle\")"
   ]
  },
  {
   "cell_type": "markdown",
   "id": "11fc8558",
   "metadata": {},
   "source": [
    "A viewlistener itself is a DOMWidget, which prints out the `view_data`."
   ]
  },
  {
   "cell_type": "code",
   "execution_count": 3,
   "id": "11e7cca3",
   "metadata": {},
   "outputs": [
    {
     "data": {
      "application/vnd.jupyter.widget-view+json": {
       "model_id": "0ddd9abace884a3880dcf32ab07bbe01",
       "version_major": 2,
       "version_minor": 0
      },
      "text/plain": [
       "ViewListener(css_selector='.ui-slider-handle', widget=FloatSlider(value=0.0))"
      ]
     },
     "metadata": {},
     "output_type": "display_data"
    }
   ],
   "source": [
    "vl"
   ]
  },
  {
   "cell_type": "code",
   "execution_count": 4,
   "id": "c7dbbd9d",
   "metadata": {},
   "outputs": [
    {
     "data": {
      "text/plain": [
       "{}"
      ]
     },
     "execution_count": 4,
     "metadata": {},
     "output_type": "execute_result"
    }
   ],
   "source": [
    "vl.view_data"
   ]
  },
  {
   "cell_type": "code",
   "execution_count": 5,
   "id": "6df31390",
   "metadata": {},
   "outputs": [
    {
     "data": {
      "application/vnd.jupyter.widget-view+json": {
       "model_id": "7436208300ec46e1951461c54edb60cb",
       "version_major": 2,
       "version_minor": 0
      },
      "text/plain": [
       "FloatSlider(value=0.0)"
      ]
     },
     "metadata": {},
     "output_type": "display_data"
    }
   ],
   "source": [
    "slider"
   ]
  },
  {
   "cell_type": "markdown",
   "id": "0a620ee5",
   "metadata": {},
   "source": [
    "If we modify the width of the slider handle, the `view_data` should be updated."
   ]
  },
  {
   "cell_type": "code",
   "execution_count": 6,
   "id": "cd1fa27e",
   "metadata": {},
   "outputs": [
    {
     "data": {
      "text/html": [
       "<style type=\"text/css\">\n",
       ".widget-hslider .ui-slider .ui-slider-handle {\n",
       "    width: 40px;\n",
       "}\n",
       "</style>\n"
      ],
      "text/plain": [
       "<IPython.core.display.HTML object>"
      ]
     },
     "metadata": {},
     "output_type": "display_data"
    }
   ],
   "source": [
    "%%html\n",
    "<style type=\"text/css\">\n",
    ".widget-hslider .ui-slider .ui-slider-handle {\n",
    "    width: 40px;\n",
    "}\n",
    "</style>"
   ]
  },
  {
   "cell_type": "markdown",
   "id": "3fe77f7c",
   "metadata": {},
   "source": [
    "## Using bqplot"
   ]
  },
  {
   "cell_type": "code",
   "execution_count": 7,
   "id": "103be845",
   "metadata": {},
   "outputs": [
    {
     "data": {
      "application/vnd.jupyter.widget-view+json": {
       "model_id": "b75a09d6642749e9bbc9d8923bc6eec0",
       "version_major": 2,
       "version_minor": 0
      },
      "text/plain": [
       "Figure(fig_margin={'top': 60, 'bottom': 60, 'left': 60, 'right': 60}, scale_x=LinearScale(allow_padding=False,…"
      ]
     },
     "metadata": {},
     "output_type": "display_data"
    }
   ],
   "source": [
    "import bqplot\n",
    "# simple empty figure\n",
    "figure = bqplot.Figure()\n",
    "figure"
   ]
  },
  {
   "cell_type": "code",
   "execution_count": 8,
   "id": "f82bf0b4",
   "metadata": {},
   "outputs": [
    {
     "data": {
      "application/vnd.jupyter.widget-view+json": {
       "model_id": "1e96464f5391421f9b86cf2b9b1ea202",
       "version_major": 2,
       "version_minor": 0
      },
      "text/plain": [
       "ViewListener(css_selector='.svg-figure > g', widget=Figure(fig_margin={'top': 60, 'bottom': 60, 'left': 60, 'r…"
      ]
     },
     "metadata": {},
     "output_type": "display_data"
    }
   ],
   "source": [
    "# listen to the main bqplot canvas\n",
    "vl_figure = ViewListener(widget=figure, css_selector=\".svg-figure > g\")\n",
    "vl_figure"
   ]
  }
 ],
 "metadata": {
  "kernelspec": {
   "display_name": "Python 3",
   "language": "python",
   "name": "python3"
  },
  "language_info": {
   "codemirror_mode": {
    "name": "ipython",
    "version": 3
   },
   "file_extension": ".py",
   "mimetype": "text/x-python",
   "name": "python",
   "nbconvert_exporter": "python",
   "pygments_lexer": "ipython3",
   "version": "3.7.10"
  }
 },
 "nbformat": 4,
 "nbformat_minor": 5
}
