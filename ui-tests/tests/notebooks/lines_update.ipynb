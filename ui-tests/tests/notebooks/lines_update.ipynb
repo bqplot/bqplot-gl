{
 "cells": [
  {
   "cell_type": "code",
   "execution_count": null,
   "id": "7959eb17",
   "metadata": {},
   "outputs": [],
   "source": [
    "from bqplot import *\n",
    "from bqplot_gl import LinesGL\n",
    "\n",
    "import numpy as np\n",
    "import pandas as pd\n",
    "\n",
    "np.random.seed(0)\n",
    "y1 = np.cumsum(np.random.randn(150)) + 100.\n",
    "y2 = np.cumsum(np.random.randn(150)) + 100.\n",
    "y3 = np.cumsum(np.random.randn(150)) + 100.\n",
    "y4 = np.cumsum(np.random.randn(150)) + 100.\n",
    "\n",
    "sc_x = LinearScale()\n",
    "sc_y = LinearScale()\n",
    "\n",
    "lines = LinesGL(x=np.arange(len(y1)), y=y1,\n",
    "             scales={'x': sc_x, 'y': sc_y})\n",
    "ax_x = Axis(scale=sc_x, label='Index')\n",
    "ax_y = Axis(scale=sc_y, orientation='vertical', label='lines')\n",
    "\n",
    "Figure(marks=[lines], axes=[ax_x, ax_y], title='Lines')"
   ]
  },
  {
   "cell_type": "code",
   "execution_count": null,
   "id": "09457d8d",
   "metadata": {},
   "outputs": [],
   "source": [
    "lines.colors = ['red']"
   ]
  },
  {
   "cell_type": "code",
   "execution_count": null,
   "id": "1facd908",
   "metadata": {},
   "outputs": [],
   "source": [
    "lines.colors = ['green']"
   ]
  },
  {
   "cell_type": "code",
   "execution_count": null,
   "id": "8566e6f6",
   "metadata": {},
   "outputs": [],
   "source": [
    "lines.opacities = [0.5]"
   ]
  },
  {
   "cell_type": "code",
   "execution_count": null,
   "id": "8e6d526e",
   "metadata": {},
   "outputs": [],
   "source": [
    "lines.opacities = [1]"
   ]
  }
 ],
 "metadata": {
  "kernelspec": {
   "display_name": "Python 3 (ipykernel)",
   "language": "python",
   "name": "python3"
  },
  "language_info": {
   "codemirror_mode": {
    "name": "ipython",
    "version": 3
   },
   "file_extension": ".py",
   "mimetype": "text/x-python",
   "name": "python",
   "nbconvert_exporter": "python",
   "pygments_lexer": "ipython3",
   "version": "3.11.4"
  }
 },
 "nbformat": 4,
 "nbformat_minor": 5
}
